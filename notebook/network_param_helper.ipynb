{
 "cells": [
  {
   "cell_type": "code",
   "execution_count": 3,
   "metadata": {},
   "outputs": [],
   "source": [
    "from torchsummary import summary\n",
    "import torch\n",
    "from torch.nn import MaxPool2d, Linear, ReLU, BatchNorm2d, Sequential, Conv2d\n"
   ]
  },
  {
   "cell_type": "code",
   "execution_count": 22,
   "metadata": {},
   "outputs": [],
   "source": [
    "class Fmcnn1(torch.nn.Module):\n",
    "\n",
    "    def __init__(self):\n",
    "        super().__init__()\n",
    "        \n",
    "        self.cnn_layers = Sequential(\n",
    "\n",
    "            Conv2d(3, 3, kernel_size=3, stride=1, padding=1),\n",
    "            BatchNorm2d(3),\n",
    "            ReLU(inplace=True),\n",
    "            MaxPool2d(kernel_size=2, stride=1),\n",
    "            \n",
    "            \n",
    "            Conv2d(3, 3, kernel_size=3, stride=5, padding=1),\n",
    "            BatchNorm2d(3),\n",
    "            ReLU(inplace=True)\n",
    "            \n",
    "        )\n",
    "\n",
    "\n",
    "        self.linear_layers = Sequential(\n",
    "            Linear(3 * 13 * 13, 5)\n",
    "        )\n",
    "\n",
    "   \n",
    "    def forward(self, x):\n",
    "        x = self.cnn_layers(x)\n",
    "        x = x.view(x.size(0), -1)\n",
    "        x = self.linear_layers(x)\n",
    "        return x"
   ]
  },
  {
   "cell_type": "code",
   "execution_count": 23,
   "metadata": {},
   "outputs": [
    {
     "name": "stdout",
     "output_type": "stream",
     "text": [
      "----------------------------------------------------------------\n",
      "        Layer (type)               Output Shape         Param #\n",
      "================================================================\n",
      "            Conv2d-1            [-1, 3, 64, 64]              84\n",
      "       BatchNorm2d-2            [-1, 3, 64, 64]               6\n",
      "              ReLU-3            [-1, 3, 64, 64]               0\n",
      "         MaxPool2d-4            [-1, 3, 63, 63]               0\n",
      "            Conv2d-5            [-1, 3, 13, 13]              84\n",
      "       BatchNorm2d-6            [-1, 3, 13, 13]               6\n",
      "              ReLU-7            [-1, 3, 13, 13]               0\n",
      "            Linear-8                    [-1, 5]           2,540\n",
      "================================================================\n",
      "Total params: 2,720\n",
      "Trainable params: 2,720\n",
      "Non-trainable params: 0\n",
      "----------------------------------------------------------------\n",
      "Input size (MB): 0.05\n",
      "Forward/backward pass size (MB): 0.38\n",
      "Params size (MB): 0.01\n",
      "Estimated Total Size (MB): 0.44\n",
      "----------------------------------------------------------------\n"
     ]
    }
   ],
   "source": [
    "devnet = Fmcnn1()\n",
    "summary(devnet, (3, 64, 64))"
   ]
  },
  {
   "cell_type": "code",
   "execution_count": null,
   "metadata": {},
   "outputs": [],
   "source": []
  }
 ],
 "metadata": {
  "kernelspec": {
   "display_name": "fcnnvenv",
   "language": "python",
   "name": "fcnnvenv"
  },
  "language_info": {
   "codemirror_mode": {
    "name": "ipython",
    "version": 3
   },
   "file_extension": ".py",
   "mimetype": "text/x-python",
   "name": "python",
   "nbconvert_exporter": "python",
   "pygments_lexer": "ipython3",
   "version": "3.7.6"
  }
 },
 "nbformat": 4,
 "nbformat_minor": 4
}
