{
 "cells": [
  {
   "cell_type": "code",
   "execution_count": 4,
   "metadata": {},
   "outputs": [],
   "source": [
    "from torchsummary import summary\n",
    "import torch\n",
    "from torch.nn import MaxPool2d, Linear, ReLU, BatchNorm2d, Sequential, Conv2d\n"
   ]
  },
  {
   "cell_type": "code",
   "execution_count": 24,
   "metadata": {},
   "outputs": [],
   "source": [
    "class Fmcnn1(torch.nn.Module):\n",
    "\n",
    "    def __init__(self):\n",
    "        super().__init__()\n",
    "        \n",
    "        self.cnn_layers = Sequential(\n",
    "\n",
    "            Conv2d(3, 16, kernel_size=3, stride=1, padding=1),\n",
    "            BatchNorm2d(16),\n",
    "            ReLU(inplace=True),\n",
    "            MaxPool2d(kernel_size=2, stride=1),\n",
    "            \n",
    "            \n",
    "            Conv2d(16, 32, kernel_size=3, stride=1, padding=1),\n",
    "            BatchNorm2d(32),\n",
    "            ReLU(inplace=True),\n",
    "\n",
    "\n",
    "            Conv2d(32, 64, kernel_size=3, stride=1, padding=1),\n",
    "            BatchNorm2d(64),\n",
    "            ReLU(inplace=True),\n",
    "            MaxPool2d(kernel_size=2, stride=2),\n",
    "            \n",
    "\n",
    "            Conv2d(64, 64, kernel_size=3, stride=1, padding=1),\n",
    "            BatchNorm2d(64),\n",
    "            ReLU(inplace=True),\n",
    "            MaxPool2d(kernel_size=2, stride=2),\n",
    "        )\n",
    "\n",
    "        self.linear_layers = Sequential(\n",
    "            Linear(64 * 7 * 7, 5)\n",
    "        )\n",
    "\n",
    "   \n",
    "    def forward(self, x):\n",
    "        x = self.cnn_layers(x)\n",
    "        x = x.view(x.size(0), -1)\n",
    "        x = self.linear_layers(x)\n",
    "        return x"
   ]
  },
  {
   "cell_type": "code",
   "execution_count": 25,
   "metadata": {},
   "outputs": [
    {
     "name": "stdout",
     "output_type": "stream",
     "text": [
      "----------------------------------------------------------------\n",
      "        Layer (type)               Output Shape         Param #\n",
      "================================================================\n",
      "            Conv2d-1           [-1, 16, 32, 32]             448\n",
      "       BatchNorm2d-2           [-1, 16, 32, 32]              32\n",
      "              ReLU-3           [-1, 16, 32, 32]               0\n",
      "         MaxPool2d-4           [-1, 16, 31, 31]               0\n",
      "            Conv2d-5           [-1, 32, 31, 31]           4,640\n",
      "       BatchNorm2d-6           [-1, 32, 31, 31]              64\n",
      "              ReLU-7           [-1, 32, 31, 31]               0\n",
      "            Conv2d-8           [-1, 64, 31, 31]          18,496\n",
      "       BatchNorm2d-9           [-1, 64, 31, 31]             128\n",
      "             ReLU-10           [-1, 64, 31, 31]               0\n",
      "        MaxPool2d-11           [-1, 64, 15, 15]               0\n",
      "           Conv2d-12           [-1, 64, 15, 15]          36,928\n",
      "      BatchNorm2d-13           [-1, 64, 15, 15]             128\n",
      "             ReLU-14           [-1, 64, 15, 15]               0\n",
      "        MaxPool2d-15             [-1, 64, 7, 7]               0\n",
      "           Linear-16                    [-1, 5]          15,685\n",
      "================================================================\n",
      "Total params: 76,549\n",
      "Trainable params: 76,549\n",
      "Non-trainable params: 0\n",
      "----------------------------------------------------------------\n",
      "Input size (MB): 0.01\n",
      "Forward/backward pass size (MB): 3.07\n",
      "Params size (MB): 0.29\n",
      "Estimated Total Size (MB): 3.37\n",
      "----------------------------------------------------------------\n"
     ]
    }
   ],
   "source": [
    "devnet = Fmcnn1()\n",
    "summary(devnet, (3, 32, 32))"
   ]
  },
  {
   "cell_type": "code",
   "execution_count": null,
   "metadata": {},
   "outputs": [],
   "source": []
  }
 ],
 "metadata": {
  "kernelspec": {
   "display_name": "fcnnvenv",
   "language": "python",
   "name": "fcnnvenv"
  },
  "language_info": {
   "codemirror_mode": {
    "name": "ipython",
    "version": 3
   },
   "file_extension": ".py",
   "mimetype": "text/x-python",
   "name": "python",
   "nbconvert_exporter": "python",
   "pygments_lexer": "ipython3",
   "version": "3.7.6"
  }
 },
 "nbformat": 4,
 "nbformat_minor": 4
}
