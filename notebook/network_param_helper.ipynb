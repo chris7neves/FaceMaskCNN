{
 "cells": [
  {
   "cell_type": "code",
   "execution_count": 39,
   "metadata": {},
   "outputs": [],
   "source": [
    "from torchsummary import summary\n",
    "import torch\n",
    "from torch.nn import MaxPool2d, Linear, ReLU, BatchNorm2d, Sequential, Conv2d, Dropout\n"
   ]
  },
  {
   "cell_type": "code",
   "execution_count": 44,
   "metadata": {},
   "outputs": [],
   "source": [
    "class Fmcnn1(torch.nn.Module):\n",
    "\n",
    "    def __init__(self):\n",
    "        super().__init__()\n",
    "        \n",
    "        self.cnn_layers = Sequential(\n",
    "\n",
    "            Conv2d(3, 8, kernel_size=3, stride=1, padding=1),\n",
    "            BatchNorm2d(8),\n",
    "            ReLU(inplace=True),\n",
    "            #MaxPool2d(kernel_size=2, stride=1),\n",
    "            \n",
    "            \n",
    "            Conv2d(8, 16, kernel_size=3, stride=2, padding=1),\n",
    "            BatchNorm2d(16),\n",
    "            ReLU(inplace=True),\n",
    "\n",
    "\n",
    "            Conv2d(16, 16, kernel_size=3, stride=1, padding=1),\n",
    "            BatchNorm2d(16),\n",
    "            ReLU(inplace=True),\n",
    "            #MaxPool2d(kernel_size=2, stride=2),\n",
    "            \n",
    "\n",
    "            Conv2d(16, 32, kernel_size=3, stride=2, padding=1),\n",
    "            BatchNorm2d(32),\n",
    "            ReLU(inplace=True),\n",
    "            #MaxPool2d(kernel_size=2, stride=2),\n",
    "            \n",
    "            Conv2d(32, 64, kernel_size=3, stride=1, padding=1),\n",
    "            BatchNorm2d(64),\n",
    "            ReLU(inplace=True),\n",
    "            MaxPool2d(kernel_size=2, stride=2),\n",
    "        )\n",
    "\n",
    "        self.linear_layers = Sequential(\n",
    "            Linear(64 * 16 * 16, 64 * 16 * 16),\n",
    "            Dropout(0.5),\n",
    "            Linear(64 * 16 * 16, 32 * 16 * 16),\n",
    "            Dropout(0.5),\n",
    "            Linear(32 * 16 * 16, 5)\n",
    "        )\n",
    "\n",
    "   \n",
    "    def forward(self, x):\n",
    "        x = self.cnn_layers(x)\n",
    "        x = x.view(x.size(0), -1)\n",
    "        x = self.linear_layers(x)\n",
    "        return x\n"
   ]
  },
  {
   "cell_type": "code",
   "execution_count": 45,
   "metadata": {},
   "outputs": [
    {
     "name": "stdout",
     "output_type": "stream",
     "text": [
      "----------------------------------------------------------------\n",
      "        Layer (type)               Output Shape         Param #\n",
      "================================================================\n",
      "            Conv2d-1          [-1, 8, 128, 128]             224\n",
      "       BatchNorm2d-2          [-1, 8, 128, 128]              16\n",
      "              ReLU-3          [-1, 8, 128, 128]               0\n",
      "            Conv2d-4           [-1, 16, 64, 64]           1,168\n",
      "       BatchNorm2d-5           [-1, 16, 64, 64]              32\n",
      "              ReLU-6           [-1, 16, 64, 64]               0\n",
      "            Conv2d-7           [-1, 16, 64, 64]           2,320\n",
      "       BatchNorm2d-8           [-1, 16, 64, 64]              32\n",
      "              ReLU-9           [-1, 16, 64, 64]               0\n",
      "           Conv2d-10           [-1, 32, 32, 32]           4,640\n",
      "      BatchNorm2d-11           [-1, 32, 32, 32]              64\n",
      "             ReLU-12           [-1, 32, 32, 32]               0\n",
      "           Conv2d-13           [-1, 64, 32, 32]          18,496\n",
      "      BatchNorm2d-14           [-1, 64, 32, 32]             128\n",
      "             ReLU-15           [-1, 64, 32, 32]               0\n",
      "        MaxPool2d-16           [-1, 64, 16, 16]               0\n",
      "           Linear-17                [-1, 16384]     268,451,840\n",
      "          Dropout-18                [-1, 16384]               0\n",
      "           Linear-19                 [-1, 8192]     134,225,920\n",
      "          Dropout-20                 [-1, 8192]               0\n",
      "           Linear-21                    [-1, 5]          40,965\n",
      "================================================================\n",
      "Total params: 402,745,845\n",
      "Trainable params: 402,745,845\n",
      "Non-trainable params: 0\n",
      "----------------------------------------------------------------\n",
      "Input size (MB): 0.19\n",
      "Forward/backward pass size (MB): 8.75\n",
      "Params size (MB): 1536.35\n",
      "Estimated Total Size (MB): 1545.29\n",
      "----------------------------------------------------------------\n"
     ]
    }
   ],
   "source": [
    "devnet = Fmcnn1()\n",
    "summary(devnet, (3, 128, 128))"
   ]
  },
  {
   "cell_type": "code",
   "execution_count": null,
   "metadata": {},
   "outputs": [],
   "source": []
  }
 ],
 "metadata": {
  "kernelspec": {
   "display_name": "fcnnvenv",
   "language": "python",
   "name": "fcnnvenv"
  },
  "language_info": {
   "codemirror_mode": {
    "name": "ipython",
    "version": 3
   },
   "file_extension": ".py",
   "mimetype": "text/x-python",
   "name": "python",
   "nbconvert_exporter": "python",
   "pygments_lexer": "ipython3",
   "version": "3.7.6"
  }
 },
 "nbformat": 4,
 "nbformat_minor": 4
}
