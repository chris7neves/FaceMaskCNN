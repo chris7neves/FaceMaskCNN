{
 "cells": [
  {
   "cell_type": "code",
   "execution_count": 1,
   "metadata": {},
   "outputs": [],
   "source": [
    "from torchsummary import summary\n",
    "import torch\n",
    "from torch.nn import MaxPool2d, Linear, ReLU, BatchNorm2d, Sequential, Conv2d, Dropout\n"
   ]
  },
  {
   "cell_type": "code",
   "execution_count": 4,
   "metadata": {},
   "outputs": [],
   "source": [
    "class Fmcnn2(torch.nn.Module):\n",
    "    \"\"\"\n",
    "    Architecture of the Fmcnn1 model CNN.\n",
    "    \"\"\"\n",
    "    def __init__(self):\n",
    "        super().__init__()\n",
    "        \n",
    "        self.cnn_layers = Sequential(\n",
    "\n",
    "            Conv2d(3, 32, kernel_size=3, stride=1, padding=1),\n",
    "            BatchNorm2d(32),\n",
    "            ReLU(inplace=True),\n",
    "            \n",
    "            Conv2d(32, 32, kernel_size=3, stride=1, padding=1),\n",
    "            BatchNorm2d(32),\n",
    "            ReLU(inplace=True),\n",
    "            MaxPool2d(kernel_size=2, stride=2),\n",
    "\n",
    "            Conv2d(32, 64, kernel_size=3, stride=1, padding=1),\n",
    "            BatchNorm2d(64),\n",
    "            ReLU(inplace=True)\n",
    "           \n",
    "            \n",
    "        )\n",
    "\n",
    "        self.linear_layers = Sequential(\n",
    "            Linear(64 * 32 * 32, 5)\n",
    "        )\n",
    "\n",
    "   \n",
    "    def forward(self, x):\n",
    "        x = self.cnn_layers(x)\n",
    "        x = x.view(x.size(0), -1)\n",
    "        x = self.linear_layers(x)\n",
    "        return x"
   ]
  },
  {
   "cell_type": "code",
   "execution_count": 5,
   "metadata": {},
   "outputs": [
    {
     "name": "stdout",
     "output_type": "stream",
     "text": [
      "----------------------------------------------------------------\n",
      "        Layer (type)               Output Shape         Param #\n",
      "================================================================\n",
      "            Conv2d-1            [-1, 8, 64, 64]             224\n",
      "       BatchNorm2d-2            [-1, 8, 64, 64]              16\n",
      "              ReLU-3            [-1, 8, 64, 64]               0\n",
      "         MaxPool2d-4            [-1, 8, 63, 63]               0\n",
      "            Conv2d-5           [-1, 16, 63, 63]           1,168\n",
      "       BatchNorm2d-6           [-1, 16, 63, 63]              32\n",
      "              ReLU-7           [-1, 16, 63, 63]               0\n",
      "            Conv2d-8           [-1, 16, 63, 63]           2,320\n",
      "       BatchNorm2d-9           [-1, 16, 63, 63]              32\n",
      "             ReLU-10           [-1, 16, 63, 63]               0\n",
      "        MaxPool2d-11           [-1, 16, 31, 31]               0\n",
      "           Conv2d-12           [-1, 32, 31, 31]           4,640\n",
      "      BatchNorm2d-13           [-1, 32, 31, 31]              64\n",
      "             ReLU-14           [-1, 32, 31, 31]               0\n",
      "        MaxPool2d-15           [-1, 32, 15, 15]               0\n",
      "           Linear-16                    [-1, 5]          36,005\n",
      "================================================================\n",
      "Total params: 44,501\n",
      "Trainable params: 44,501\n",
      "Non-trainable params: 0\n",
      "----------------------------------------------------------------\n",
      "Input size (MB): 0.05\n",
      "Forward/backward pass size (MB): 4.78\n",
      "Params size (MB): 0.17\n",
      "Estimated Total Size (MB): 4.99\n",
      "----------------------------------------------------------------\n"
     ]
    }
   ],
   "source": [
    "devnet = Fmcnn1()\n",
    "device = torch.device('cuda' if torch.cuda.is_available() else 'cpu')\n",
    "devnet.to(device)\n",
    "summary(devnet, (3, 64, 64))"
   ]
  },
  {
   "cell_type": "code",
   "execution_count": null,
   "metadata": {},
   "outputs": [],
   "source": []
  }
 ],
 "metadata": {
  "kernelspec": {
   "display_name": "fcnnvenv",
   "language": "python",
   "name": "fcnnvenv"
  },
  "language_info": {
   "codemirror_mode": {
    "name": "ipython",
    "version": 3
   },
   "file_extension": ".py",
   "mimetype": "text/x-python",
   "name": "python",
   "nbconvert_exporter": "python",
   "pygments_lexer": "ipython3",
   "version": "3.7.6"
  }
 },
 "nbformat": 4,
 "nbformat_minor": 4
}
