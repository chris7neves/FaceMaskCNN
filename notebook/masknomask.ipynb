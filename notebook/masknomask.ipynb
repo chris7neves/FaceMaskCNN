{
 "cells": [
  {
   "cell_type": "code",
   "execution_count": 486,
   "metadata": {},
   "outputs": [],
   "source": [
    "import os\n",
    "import sys\n",
    "\n",
    "import pandas as pd\n",
    "import numpy as np\n",
    "\n",
    "from skimage.io import imread\n",
    "from sklearn.model_selection import train_test_split\n",
    "from sklearn.metrics import accuracy_score\n",
    "import matplotlib.pyplot as plt\n",
    "import matplotlib.image as mpimg\n",
    "\n",
    "import torch\n",
    "from torch.utils.data import Dataset, DataLoader\n",
    "from torch.autograd import Variable\n",
    "import torchvision.transforms as T\n",
    "from torchsummary import summary\n",
    "import torch.nn.functional as F\n",
    "# MAKE SURE TO SHUFFLE IMPORT ORDER AND DELETE USELESS IMPORTS\n",
    "from torch.nn import Linear, ReLU, CrossEntropyLoss, Sequential, Conv2d, MaxPool2d, Module, Softmax, Dropout, BatchNorm2d, BCELoss\n",
    "from torch.optim import Adam, SGD"
   ]
  },
  {
   "cell_type": "code",
   "execution_count": 421,
   "metadata": {},
   "outputs": [],
   "source": [
    "# Data Directories\n",
    "maskdir = \"F:\\Libraries\\Documents\\ALL\\School\\GrDip\\comp6721_applied_artificial_intelligence\\project\\FaceMaskCNN\\data\\masknomask\\dataset\\dataset\\with_mask\"\n",
    "nomaskdir = \"F:\\Libraries\\Documents\\ALL\\School\\GrDip\\comp6721_applied_artificial_intelligence\\project\\FaceMaskCNN\\data\\masknomask\\dataset\\dataset\\without_mask\""
   ]
  },
  {
   "cell_type": "code",
   "execution_count": 422,
   "metadata": {},
   "outputs": [],
   "source": [
    "def rename_images(im_dir, prefix=\"\", suffix=\"\"):\n",
    "    \"\"\"\n",
    "    Utility function that renames all the images in a folder to have increasing integer numbers.\n",
    "    \"\"\"\n",
    "    \n",
    "    if not os.path.isdir(im_dir):\n",
    "        print(\"The specified directory '{}' does not exist.\")\n",
    "        return False\n",
    "    \n",
    "    for i, fname in enumerate(os.listdir(im_dir)):\n",
    "        _, ext = os.path.splitext(fname)\n",
    "        new_name = prefix + str(i) + suffix + ext\n",
    "        \n",
    "        try:\n",
    "            os.rename(os.path.join(im_dir,fname), os.path.join(im_dir,new_name))\n",
    "        except FileExistsError:\n",
    "            continue\n",
    "            \n",
    "    return True"
   ]
  },
  {
   "cell_type": "code",
   "execution_count": 423,
   "metadata": {},
   "outputs": [
    {
     "data": {
      "text/plain": [
       "True"
      ]
     },
     "execution_count": 423,
     "metadata": {},
     "output_type": "execute_result"
    }
   ],
   "source": [
    "# - rename images in mask set\n",
    "rename_images(\"F:\\Libraries\\Documents\\ALL\\School\\GrDip\\comp6721_applied_artificial_intelligence\\project\\FaceMaskCNN\\data\\masknomask\\dataset\\dataset\\with_mask\",\n",
    "             suffix=\"_m\")\n",
    "\n",
    "# - rename images in no mask set\n",
    "rename_images(\"F:\\Libraries\\Documents\\ALL\\School\\GrDip\\comp6721_applied_artificial_intelligence\\project\\FaceMaskCNN\\data\\masknomask\\dataset\\dataset\\without_mask\",\n",
    "             suffix=\"_nm\")"
   ]
  },
  {
   "cell_type": "markdown",
   "metadata": {},
   "source": [
    "### Dataset Creation and Preparation"
   ]
  },
  {
   "cell_type": "code",
   "execution_count": 437,
   "metadata": {},
   "outputs": [],
   "source": [
    "# Define image transforms\n",
    "preprocess = T.Compose([\n",
    "    T.ToTensor(),\n",
    "    T.Resize([32,32])\n",
    "])"
   ]
  },
  {
   "cell_type": "code",
   "execution_count": 447,
   "metadata": {},
   "outputs": [],
   "source": [
    "#\n",
    "# Import Data #\n",
    "#\n",
    "\n",
    "# Create the labeled data indices\n",
    "df1 = pd.DataFrame(os.listdir(maskdir)).rename({0:\"file_id\"}, axis=1)\n",
    "df1[\"label_literal\"] = os.path.split(maskdir)[1]\n",
    "\n",
    "df2 = pd.DataFrame(os.listdir(nomaskdir)).rename({0:\"file_id\"}, axis=1)\n",
    "df2[\"label_literal\"] = os.path.split(nomaskdir)[1]\n",
    "\n",
    "\n",
    "data = pd.concat([df1, df2])\n",
    "data = data.reset_index(drop=True)\n",
    "data[\"label\"] = data[\"label_literal\"].apply(lambda x : 0 if x==\"without_mask\" else 1)\n",
    "\n",
    "# Load the images\n",
    "labels = data[\"label\"].to_numpy()\n",
    "images = []\n",
    "for row in data.itertuples():\n",
    "    \n",
    "    if row.label_literal == \"with_mask\":\n",
    "        im_path = os.path.join(maskdir, row.file_id)\n",
    "    elif row.label_literal == \"without_mask\":\n",
    "        im_path = os.path.join(nomaskdir, row.file_id)\n",
    "        \n",
    "    image = imread(im_path, as_gray=True)\n",
    "    \n",
    "    # Normalize image so that it is between 0 and 1\n",
    "    image = image/255.0\n",
    "    \n",
    "    # Change data to float32 (dont think this is necessary? Might help speed up processing)\n",
    "    image = image.astype(\"float32\")\n",
    "    \n",
    "    # Apply Torch transforms\n",
    "    image = preprocess(image)\n",
    "    \n",
    "    images.append(image)\n",
    "\n",
    "    \n",
    "#images = np.array(images)\n",
    "image_tensor = torch.cat(images)"
   ]
  },
  {
   "cell_type": "code",
   "execution_count": 448,
   "metadata": {},
   "outputs": [
    {
     "data": {
      "text/plain": [
       "<matplotlib.image.AxesImage at 0x2011526eb88>"
      ]
     },
     "execution_count": 448,
     "metadata": {},
     "output_type": "execute_result"
    },
    {
     "data": {
      "image/png": "[encoded data removed]",
      "text/plain": [
       "<Figure size 432x288 with 1 Axes>"
      ]
     },
     "metadata": {
      "needs_background": "light"
     },
     "output_type": "display_data"
    }
   ],
   "source": [
    "plt.imshow(image_tensor[121])"
   ]
  },
  {
   "cell_type": "code",
   "execution_count": 451,
   "metadata": {},
   "outputs": [],
   "source": [
    "# Split the data into train and test\n",
    "labels = torch.tensor(labels)\n",
    "X_train, X_test, y_train, y_test = train_test_split(image_tensor, labels, test_size=0.3, stratify=labels, random_state=43)"
   ]
  },
  {
   "cell_type": "code",
   "execution_count": 452,
   "metadata": {},
   "outputs": [],
   "source": [
    "# Add the channel dimension to the train and test sets\n",
    "X_train = torch.unsqueeze(X_train, 1)\n",
    "X_test = torch.unsqueeze(X_test, 1)"
   ]
  },
  {
   "cell_type": "code",
   "execution_count": 453,
   "metadata": {},
   "outputs": [
    {
     "name": "stdout",
     "output_type": "stream",
     "text": [
      "torch.Size([2682, 1, 32, 32])\n",
      "torch.Size([1150, 1, 32, 32])\n"
     ]
    }
   ],
   "source": [
    "print(X_train.shape)\n",
    "print(X_test.shape)"
   ]
  },
  {
   "cell_type": "code",
   "execution_count": 430,
   "metadata": {},
   "outputs": [],
   "source": [
    "# Create dataset class\n",
    "\n",
    "# class MaskNoMaskDset(Dataset):\n",
    "    "
   ]
  },
  {
   "cell_type": "code",
   "execution_count": 534,
   "metadata": {},
   "outputs": [],
   "source": [
    "# Define CNN\n",
    "\n",
    "class Net(torch.nn.Module):\n",
    "    def __init__(self):\n",
    "        super().__init__()\n",
    "        \n",
    "        self.cnn_layers = Sequential(\n",
    "            # Defining a 2D convolution layer\n",
    "            Conv2d(1, 4, kernel_size=3, stride=1, padding=1),\n",
    "            BatchNorm2d(4),\n",
    "            ReLU(inplace=True),\n",
    "            MaxPool2d(kernel_size=2, stride=2),\n",
    "            Dropout(0.5),\n",
    "            \n",
    "            # Defining another 2D convolution layer\n",
    "            Conv2d(4, 4, kernel_size=3, stride=1, padding=1),\n",
    "            BatchNorm2d(4),\n",
    "            ReLU(inplace=True),\n",
    "            MaxPool2d(kernel_size=2, stride=2),\n",
    "        )\n",
    "\n",
    "        self.linear_layers = Sequential(\n",
    "            Linear(4 * 8 * 8, 2)\n",
    "        )\n",
    "\n",
    "    # Defining the forward pass    \n",
    "    def forward(self, x):\n",
    "        x = self.cnn_layers(x)\n",
    "        x = x.view(x.size(0), -1)\n",
    "        x = self.linear_layers(x)\n",
    "        return x\n",
    "        "
   ]
  },
  {
   "cell_type": "code",
   "execution_count": 535,
   "metadata": {},
   "outputs": [
    {
     "name": "stdout",
     "output_type": "stream",
     "text": [
      "----------------------------------------------------------------\n",
      "        Layer (type)               Output Shape         Param #\n",
      "================================================================\n",
      "            Conv2d-1            [-1, 4, 32, 32]              40\n",
      "       BatchNorm2d-2            [-1, 4, 32, 32]               8\n",
      "              ReLU-3            [-1, 4, 32, 32]               0\n",
      "         MaxPool2d-4            [-1, 4, 16, 16]               0\n",
      "           Dropout-5            [-1, 4, 16, 16]               0\n",
      "            Conv2d-6            [-1, 4, 16, 16]             148\n",
      "       BatchNorm2d-7            [-1, 4, 16, 16]               8\n",
      "              ReLU-8            [-1, 4, 16, 16]               0\n",
      "         MaxPool2d-9              [-1, 4, 8, 8]               0\n",
      "           Linear-10                    [-1, 2]             514\n",
      "================================================================\n",
      "Total params: 718\n",
      "Trainable params: 718\n",
      "Non-trainable params: 0\n",
      "----------------------------------------------------------------\n",
      "Input size (MB): 0.00\n",
      "Forward/backward pass size (MB): 0.13\n",
      "Params size (MB): 0.00\n",
      "Estimated Total Size (MB): 0.14\n",
      "----------------------------------------------------------------\n"
     ]
    }
   ],
   "source": [
    "devnet = Net()\n",
    "summary(devnet, (1, 32, 32))"
   ]
  },
  {
   "cell_type": "code",
   "execution_count": 536,
   "metadata": {},
   "outputs": [],
   "source": [
    "# Defining optimizers and loss function\n",
    "\n",
    "testmodel = Net()\n",
    "adam_opt = Adam(testmodel.parameters(), lr=0.001)\n",
    "criterion = CrossEntropyLoss()"
   ]
  },
  {
   "cell_type": "code",
   "execution_count": 537,
   "metadata": {},
   "outputs": [
    {
     "data": {
      "text/plain": [
       "tensor([0, 1, 1,  ..., 0, 0, 0])"
      ]
     },
     "execution_count": 537,
     "metadata": {},
     "output_type": "execute_result"
    }
   ],
   "source": [
    "y_train"
   ]
  },
  {
   "cell_type": "code",
   "execution_count": 538,
   "metadata": {},
   "outputs": [
    {
     "data": {
      "text/plain": [
       "tensor([[ 0.6557, -0.2302],\n",
       "        [-0.1317,  1.5396],\n",
       "        [-1.1518,  2.7985],\n",
       "        ...,\n",
       "        [-0.5567,  1.2203],\n",
       "        [ 0.8210, -0.5283],\n",
       "        [ 1.4116,  0.2917]], grad_fn=<AddmmBackward0>)"
      ]
     },
     "execution_count": 538,
     "metadata": {},
     "output_type": "execute_result"
    }
   ],
   "source": [
    "output_train"
   ]
  },
  {
   "cell_type": "code",
   "execution_count": 539,
   "metadata": {
    "scrolled": true
   },
   "outputs": [
    {
     "name": "stdout",
     "output_type": "stream",
     "text": [
      "Epoch: 0      Loss: 0.719201385974884\n",
      "Epoch: 2      Loss: 0.7096483707427979\n",
      "Epoch: 4      Loss: 0.7002910375595093\n",
      "Epoch: 6      Loss: 0.6890263557434082\n",
      "Epoch: 8      Loss: 0.6776925921440125\n",
      "Epoch: 10      Loss: 0.6627748608589172\n",
      "Epoch: 12      Loss: 0.6536746621131897\n",
      "Epoch: 14      Loss: 0.6398228406906128\n",
      "Epoch: 16      Loss: 0.634195864200592\n",
      "Epoch: 18      Loss: 0.6208580732345581\n",
      "Epoch: 20      Loss: 0.6182875633239746\n",
      "Epoch: 22      Loss: 0.6018685698509216\n",
      "Epoch: 24      Loss: 0.5948046445846558\n",
      "Epoch: 26      Loss: 0.5804978013038635\n",
      "Epoch: 28      Loss: 0.5682235956192017\n",
      "Epoch: 30      Loss: 0.5604888796806335\n",
      "Epoch: 32      Loss: 0.5509119033813477\n",
      "Epoch: 34      Loss: 0.5408916473388672\n",
      "Epoch: 36      Loss: 0.5340945720672607\n",
      "Epoch: 38      Loss: 0.5213881134986877\n",
      "Epoch: 40      Loss: 0.5196241140365601\n",
      "Epoch: 42      Loss: 0.5116056203842163\n",
      "Epoch: 44      Loss: 0.5114365220069885\n",
      "Epoch: 46      Loss: 0.5050814747810364\n",
      "Epoch: 48      Loss: 0.4888530969619751\n"
     ]
    }
   ],
   "source": [
    "# Training Loop\n",
    "\n",
    "\n",
    "# torch.set_grad_enabled(True)\n",
    "num_epochs = 50\n",
    "train_losses = []\n",
    "tr_loss = 0\n",
    "testmodel.train()\n",
    "for epoch in range(num_epochs):\n",
    "    \n",
    "    train_loss = 0\n",
    "    \n",
    "    adam_opt.zero_grad()\n",
    "    \n",
    "    output_train = testmodel(X_train)\n",
    "    \n",
    "    loss_train = criterion(output_train, y_train)\n",
    "    train_losses.append(loss_train)\n",
    "    \n",
    "    loss_train.backward()\n",
    "    adam_opt.step()\n",
    "    \n",
    "    if epoch%2 == 0:\n",
    "        print(\"Epoch: {}      Loss: {}\".format(epoch, loss_train))"
   ]
  },
  {
   "cell_type": "code",
   "execution_count": 540,
   "metadata": {},
   "outputs": [],
   "source": [
    "with torch.no_grad():\n",
    "    test_out = testmodel(X_test)\n",
    "\n",
    "softmax = torch.exp(test_out)\n",
    "prob = list(softmax.numpy())\n",
    "preds = np.argmax(prob, axis=1)"
   ]
  },
  {
   "cell_type": "code",
   "execution_count": 541,
   "metadata": {},
   "outputs": [
    {
     "data": {
      "text/plain": [
       "0.7669565217391304"
      ]
     },
     "execution_count": 541,
     "metadata": {},
     "output_type": "execute_result"
    }
   ],
   "source": [
    "accuracy_score(y_test, preds)"
   ]
  },
  {
   "cell_type": "code",
   "execution_count": null,
   "metadata": {},
   "outputs": [],
   "source": []
  }
 ],
 "metadata": {
  "kernelspec": {
   "display_name": "fcnnvenv",
   "language": "python",
   "name": "fcnnvenv"
  },
  "language_info": {
   "codemirror_mode": {
    "name": "ipython",
    "version": 3
   },
   "file_extension": ".py",
   "mimetype": "text/x-python",
   "name": "python",
   "nbconvert_exporter": "python",
   "pygments_lexer": "ipython3",
   "version": "3.7.6"
  }
 },
 "nbformat": 4,
 "nbformat_minor": 4
}
