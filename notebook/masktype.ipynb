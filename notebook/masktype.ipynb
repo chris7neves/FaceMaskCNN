{
 "cells": [
  {
   "cell_type": "code",
   "execution_count": 371,
   "metadata": {},
   "outputs": [],
   "source": [
    "import os\n",
    "import sys\n",
    "\n",
    "import pandas as pd\n",
    "import numpy as np\n",
    "\n",
    "import seaborn as sns\n",
    "\n",
    "from skimage.io import imread\n",
    "from sklearn.model_selection import train_test_split\n",
    "from sklearn.metrics import accuracy_score, confusion_matrix, precision_score, recall_score, f1_score\n",
    "from sklearn.preprocessing import OneHotEncoder\n",
    "\n",
    "import matplotlib.pyplot as plt\n",
    "import matplotlib.image as mpimg\n",
    "\n",
    "import torch\n",
    "import torchvision\n",
    "from torch.utils.data import Dataset, DataLoader\n",
    "from torchvision.utils import make_grid\n",
    "from torchvision import transforms\n",
    "from torch.autograd import Variable\n",
    "import torchvision.transforms as T\n",
    "from torchsummary import summary\n",
    "import torch.nn.functional as F\n",
    "# MAKE SURE TO SHUFFLE IMPORT ORDER AND DELETE USELESS IMPORTS\n",
    "from torch.nn import Linear, ReLU, CrossEntropyLoss, Sequential, Conv2d, MaxPool2d, Module, Softmax, Dropout, BatchNorm2d, BCELoss\n",
    "from torch.optim import Adam, SGD"
   ]
  },
  {
   "cell_type": "code",
   "execution_count": 2,
   "metadata": {},
   "outputs": [],
   "source": [
    "# Data Directories\n",
    "clothmask = \"F:\\Libraries\\Documents\\ALL\\School\\GrDip\\comp6721_applied_artificial_intelligence\\project\\FaceMaskCNN\\data\\masktype\\Dataset\\ClothMask\"\n",
    "ffp2mask = \"F:\\Libraries\\Documents\\ALL\\School\\GrDip\\comp6721_applied_artificial_intelligence\\project\\FaceMaskCNN\\data\\masktype\\Dataset\\FFP2Mask\"\n",
    "surgicalmask = \"F:\\Libraries\\Documents\\ALL\\School\\GrDip\\comp6721_applied_artificial_intelligence\\project\\FaceMaskCNN\\data\\masktype\\Dataset\\SurgicalMask\"\n",
    "withoutmask = \"F:\\Libraries\\Documents\\ALL\\School\\GrDip\\comp6721_applied_artificial_intelligence\\project\\FaceMaskCNN\\data\\masktype\\Dataset\\WithoutMask\"\n"
   ]
  },
  {
   "cell_type": "code",
   "execution_count": 3,
   "metadata": {},
   "outputs": [],
   "source": [
    "def rename_images(im_dir, prefix=\"\", suffix=\"\"):\n",
    "    \"\"\"\n",
    "    Utility function that renames all the images in a folder to have increasing integer numbers.\n",
    "    \"\"\"\n",
    "    \n",
    "    if not os.path.isdir(im_dir):\n",
    "        print(\"The specified directory '{}' does not exist.\")\n",
    "        return False\n",
    "    \n",
    "    for i, fname in enumerate(os.listdir(im_dir)):\n",
    "        _, ext = os.path.splitext(fname)\n",
    "        new_name = prefix + str(i) + suffix + ext\n",
    "        \n",
    "        try:\n",
    "            os.rename(os.path.join(im_dir,fname), os.path.join(im_dir,new_name))\n",
    "        except FileExistsError:\n",
    "            continue\n",
    "            \n",
    "    return True"
   ]
  },
  {
   "cell_type": "code",
   "execution_count": 58,
   "metadata": {},
   "outputs": [],
   "source": [
    "def get_class(classes, label):\n",
    "    return classes[np.where(label == 1)[0].item()]"
   ]
  },
  {
   "cell_type": "code",
   "execution_count": 4,
   "metadata": {},
   "outputs": [
    {
     "data": {
      "text/plain": [
       "True"
      ]
     },
     "execution_count": 4,
     "metadata": {},
     "output_type": "execute_result"
    }
   ],
   "source": [
    "# rename images in sets\n",
    "rename_images(clothmask, suffix=\"_c\")\n",
    "rename_images(ffp2mask, suffix=\"_f\")\n",
    "rename_images(surgicalmask, suffix=\"_s\")\n",
    "rename_images(withoutmask, suffix=\"_w\")"
   ]
  },
  {
   "cell_type": "code",
   "execution_count": 5,
   "metadata": {},
   "outputs": [],
   "source": [
    "# Define image transforms\n",
    "preprocess = T.Compose([\n",
    "    T.ToTensor(),\n",
    "    T.Resize([32,32])\n",
    "])"
   ]
  },
  {
   "cell_type": "code",
   "execution_count": 97,
   "metadata": {},
   "outputs": [],
   "source": [
    "#\n",
    "# Import Data #\n",
    "#\n",
    "classes = []\n",
    "class_dfs = []\n",
    "class_paths = {}\n",
    "for _class in [clothmask, ffp2mask, surgicalmask, withoutmask]:\n",
    "    df = pd.DataFrame(os.listdir(_class)).rename({0:\"file_id\"}, axis=1)\n",
    "    c = os.path.split(_class)[1]\n",
    "    class_paths[c] = _class\n",
    "    df[\"label_literal\"] = c\n",
    "    classes.append(c)\n",
    "    class_dfs.append(df)\n",
    "\n",
    "\n",
    "data = pd.concat(class_dfs)\n",
    "data = data.reset_index(drop=True)\n",
    "encodings = pd.get_dummies(data.label_literal)\n",
    "data = pd.concat([data, encodings], axis=1)\n",
    "\n",
    "\n",
    "labels = data[classes].to_numpy()\n",
    "labels = torch.FloatTensor(labels)\n",
    "# Load the images\n",
    "images = []\n",
    "for row in data.itertuples():\n",
    "    \n",
    "    im_path = os.path.join(class_paths.get(row.label_literal), row.file_id)\n",
    "\n",
    "    image = imread(im_path, as_gray=True)\n",
    "    \n",
    "    # Normalize image so that it is between 0 and 1\n",
    "    image = image/255.0\n",
    "    \n",
    "    # Change data to float32 (dont think this is necessary? Might help speed up processing)\n",
    "    image = image.astype(\"float32\")\n",
    "    \n",
    "    # Apply Torch transforms\n",
    "    image = preprocess(image)\n",
    "    \n",
    "    images.append(image)\n",
    "\n",
    "    \n",
    "#images = np.array(images)\n",
    "image_tensor = torch.cat(images)\n",
    "image_tensor = torch.unsqueeze(image_tensor, 1)"
   ]
  },
  {
   "cell_type": "code",
   "execution_count": 372,
   "metadata": {},
   "outputs": [
    {
     "name": "stdout",
     "output_type": "stream",
     "text": [
      "0.12.0+cpu\n"
     ]
    }
   ],
   "source": [
    "print(torchvision.__version__)"
   ]
  },
  {
   "cell_type": "code",
   "execution_count": 377,
   "metadata": {},
   "outputs": [],
   "source": [
    "testp = T.Compose([\n",
    "    transforms.RandomHorizontalFlip(),\n",
    "    transforms.RandomCrop(32)\n",
    "])\n",
    "sample = testp(image_tensor[2000][0])"
   ]
  },
  {
   "cell_type": "code",
   "execution_count": 378,
   "metadata": {},
   "outputs": [
    {
     "data": {
      "text/plain": [
       "tensor([[0.0035, 0.0036, 0.0036,  ..., 0.0027, 0.0026, 0.0025],\n",
       "        [0.0035, 0.0036, 0.0036,  ..., 0.0025, 0.0025, 0.0028],\n",
       "        [0.0035, 0.0036, 0.0036,  ..., 0.0028, 0.0029, 0.0030],\n",
       "        ...,\n",
       "        [0.0026, 0.0037, 0.0035,  ..., 0.0008, 0.0011, 0.0013],\n",
       "        [0.0026, 0.0035, 0.0038,  ..., 0.0008, 0.0011, 0.0017],\n",
       "        [0.0028, 0.0031, 0.0036,  ..., 0.0011, 0.0010, 0.0014]])"
      ]
     },
     "execution_count": 378,
     "metadata": {},
     "output_type": "execute_result"
    }
   ],
   "source": [
    "sample"
   ]
  },
  {
   "cell_type": "code",
   "execution_count": 234,
   "metadata": {},
   "outputs": [
    {
     "name": "stdout",
     "output_type": "stream",
     "text": [
      "SurgicalMask\n"
     ]
    },
    {
     "data": {
      "text/plain": [
       "<matplotlib.image.AxesImage at 0x24de2960ac8>"
      ]
     },
     "execution_count": 234,
     "metadata": {},
     "output_type": "execute_result"
    },
    {
     "data": {
      "image/png": "[encoded data removed]",
      "text/plain": [
       "<Figure size 432x288 with 1 Axes>"
      ]
     },
     "metadata": {
      "needs_background": "light"
     },
     "output_type": "display_data"
    }
   ],
   "source": [
    "print(get_class(classes, labels[2000]))\n",
    "plt.imshow(image_tensor[2000][0])"
   ]
  },
  {
   "cell_type": "code",
   "execution_count": 235,
   "metadata": {},
   "outputs": [],
   "source": [
    "# Split the data into train and test\n",
    "X_train, X_test, y_train, y_test = train_test_split(image_tensor, labels, test_size=0.3, stratify=labels, random_state=43)"
   ]
  },
  {
   "cell_type": "code",
   "execution_count": 236,
   "metadata": {},
   "outputs": [
    {
     "name": "stdout",
     "output_type": "stream",
     "text": [
      "torch.Size([2113, 1, 32, 32])\n",
      "torch.Size([906, 1, 32, 32])\n"
     ]
    }
   ],
   "source": [
    "print(X_train.shape)\n",
    "print(X_test.shape)"
   ]
  },
  {
   "cell_type": "code",
   "execution_count": 329,
   "metadata": {},
   "outputs": [],
   "source": [
    "# Define CNN\n",
    "\n",
    "class Net(torch.nn.Module):\n",
    "    def __init__(self):\n",
    "        super().__init__()\n",
    "        \n",
    "        self.cnn_layers = Sequential(\n",
    "            # Defining a 2D convolution layer\n",
    "            Conv2d(1, 4, kernel_size=3, stride=1, padding=1),\n",
    "            BatchNorm2d(4),\n",
    "            ReLU(inplace=True),\n",
    "            MaxPool2d(kernel_size=2, stride=1),\n",
    "            \n",
    "            \n",
    "            # Defining another 2D convolution layer\n",
    "            Conv2d(4, 8, kernel_size=3, stride=1, padding=1),\n",
    "            BatchNorm2d(8),\n",
    "            ReLU(inplace=True),\n",
    "            #MaxPool2d(kernel_size=2, stride=1),\n",
    "            \n",
    "            # Defining another 2D convolution layer\n",
    "            Conv2d(8, 8, kernel_size=3, stride=1, padding=1),\n",
    "            BatchNorm2d(8),\n",
    "            ReLU(inplace=True),\n",
    "            MaxPool2d(kernel_size=2, stride=2),\n",
    "            \n",
    "            # Defining another 2D convolution layer\n",
    "            Conv2d(8, 16, kernel_size=3, stride=1, padding=1),\n",
    "            BatchNorm2d(16),\n",
    "            ReLU(inplace=True),\n",
    "            MaxPool2d(kernel_size=2, stride=2),\n",
    "            #Dropout(0.2),\n",
    "        )\n",
    "\n",
    "        self.linear_layers = Sequential(\n",
    "            Linear(16 * 7 * 7, 4)\n",
    "        )\n",
    "\n",
    "    # Defining the forward pass    \n",
    "    def forward(self, x):\n",
    "        x = self.cnn_layers(x)\n",
    "        x = x.view(x.size(0), -1)\n",
    "        x = self.linear_layers(x)\n",
    "        return x\n",
    "        "
   ]
  },
  {
   "cell_type": "code",
   "execution_count": 330,
   "metadata": {},
   "outputs": [
    {
     "name": "stdout",
     "output_type": "stream",
     "text": [
      "----------------------------------------------------------------\n",
      "        Layer (type)               Output Shape         Param #\n",
      "================================================================\n",
      "            Conv2d-1            [-1, 4, 32, 32]              40\n",
      "       BatchNorm2d-2            [-1, 4, 32, 32]               8\n",
      "              ReLU-3            [-1, 4, 32, 32]               0\n",
      "         MaxPool2d-4            [-1, 4, 31, 31]               0\n",
      "            Conv2d-5            [-1, 8, 31, 31]             296\n",
      "       BatchNorm2d-6            [-1, 8, 31, 31]              16\n",
      "              ReLU-7            [-1, 8, 31, 31]               0\n",
      "            Conv2d-8            [-1, 8, 31, 31]             584\n",
      "       BatchNorm2d-9            [-1, 8, 31, 31]              16\n",
      "             ReLU-10            [-1, 8, 31, 31]               0\n",
      "        MaxPool2d-11            [-1, 8, 15, 15]               0\n",
      "           Conv2d-12           [-1, 16, 15, 15]           1,168\n",
      "      BatchNorm2d-13           [-1, 16, 15, 15]              32\n",
      "             ReLU-14           [-1, 16, 15, 15]               0\n",
      "        MaxPool2d-15             [-1, 16, 7, 7]               0\n",
      "           Linear-16                    [-1, 4]           3,140\n",
      "================================================================\n",
      "Total params: 5,300\n",
      "Trainable params: 5,300\n",
      "Non-trainable params: 0\n",
      "----------------------------------------------------------------\n",
      "Input size (MB): 0.00\n",
      "Forward/backward pass size (MB): 0.58\n",
      "Params size (MB): 0.02\n",
      "Estimated Total Size (MB): 0.60\n",
      "----------------------------------------------------------------\n"
     ]
    }
   ],
   "source": [
    "devnet = Net()\n",
    "summary(devnet, (1, 32, 32))"
   ]
  },
  {
   "cell_type": "code",
   "execution_count": 331,
   "metadata": {},
   "outputs": [],
   "source": [
    "# Defining optimizers and loss function\n",
    "testmodel = Net()\n",
    "adam_opt = Adam(testmodel.parameters(), lr=0.001)\n",
    "criterion = CrossEntropyLoss()"
   ]
  },
  {
   "cell_type": "code",
   "execution_count": 332,
   "metadata": {},
   "outputs": [
    {
     "data": {
      "text/plain": [
       "'torch.FloatTensor'"
      ]
     },
     "execution_count": 332,
     "metadata": {},
     "output_type": "execute_result"
    }
   ],
   "source": [
    "y_train.type()"
   ]
  },
  {
   "cell_type": "code",
   "execution_count": 333,
   "metadata": {},
   "outputs": [
    {
     "data": {
      "text/plain": [
       "'torch.FloatTensor'"
      ]
     },
     "execution_count": 333,
     "metadata": {},
     "output_type": "execute_result"
    }
   ],
   "source": [
    "labels.type()"
   ]
  },
  {
   "cell_type": "code",
   "execution_count": 334,
   "metadata": {},
   "outputs": [
    {
     "name": "stdout",
     "output_type": "stream",
     "text": [
      "Epoch: 0      Loss: 1.6100112199783325\n",
      "Epoch: 2      Loss: 1.3883007764816284\n",
      "Epoch: 4      Loss: 1.2584460973739624\n",
      "Epoch: 6      Loss: 1.1324771642684937\n",
      "Epoch: 8      Loss: 1.0974494218826294\n",
      "Epoch: 10      Loss: 1.032745361328125\n",
      "Epoch: 12      Loss: 0.9831207990646362\n",
      "Epoch: 14      Loss: 0.9560291171073914\n",
      "Epoch: 16      Loss: 0.9100276231765747\n",
      "Epoch: 18      Loss: 0.86821049451828\n",
      "Epoch: 20      Loss: 0.8413842916488647\n",
      "Epoch: 22      Loss: 0.8063564300537109\n",
      "Epoch: 24      Loss: 0.7738775610923767\n",
      "Epoch: 26      Loss: 0.748898983001709\n",
      "Epoch: 28      Loss: 0.719219982624054\n",
      "Epoch: 30      Loss: 0.6937829852104187\n",
      "Epoch: 32      Loss: 0.6709162592887878\n",
      "Epoch: 34      Loss: 0.6470428705215454\n",
      "Epoch: 36      Loss: 0.626684844493866\n",
      "Epoch: 38      Loss: 0.6063060164451599\n",
      "Epoch: 40      Loss: 0.5883417725563049\n",
      "Epoch: 42      Loss: 0.5722825527191162\n",
      "Epoch: 44      Loss: 0.5563051104545593\n",
      "Epoch: 46      Loss: 0.5423711538314819\n",
      "Epoch: 48      Loss: 0.528292179107666\n",
      "Epoch: 50      Loss: 0.5160603523254395\n",
      "Epoch: 52      Loss: 0.5040730237960815\n",
      "Epoch: 54      Loss: 0.4930795431137085\n",
      "Epoch: 56      Loss: 0.4825761914253235\n",
      "Epoch: 58      Loss: 0.47265657782554626\n",
      "Epoch: 60      Loss: 0.463201642036438\n",
      "Epoch: 62      Loss: 0.4542865455150604\n",
      "Epoch: 64      Loss: 0.44586679339408875\n",
      "Epoch: 66      Loss: 0.437667578458786\n",
      "Epoch: 68      Loss: 0.4297935366630554\n"
     ]
    }
   ],
   "source": [
    "# Training Loop\n",
    "\n",
    "#torch.set_grad_enabled(True)\n",
    "num_epochs = 70\n",
    "train_losses = []\n",
    "tr_loss = 0\n",
    "testmodel.train()\n",
    "for epoch in range(num_epochs):\n",
    "    \n",
    "    train_loss = 0\n",
    "    \n",
    "    adam_opt.zero_grad()\n",
    "    \n",
    "    output_train = testmodel(X_train)\n",
    "    loss_train = criterion(output_train, y_train)\n",
    "    train_losses.append(loss_train)\n",
    "    \n",
    "    loss_train.backward()\n",
    "    adam_opt.step()\n",
    "    \n",
    "    if epoch%2 == 0:\n",
    "        print(\"Epoch: {}      Loss: {}\".format(epoch, loss_train))"
   ]
  },
  {
   "cell_type": "code",
   "execution_count": 335,
   "metadata": {},
   "outputs": [],
   "source": [
    "with torch.no_grad():\n",
    "    test_out = testmodel(X_test)\n",
    "\n",
    "pred = torch.argmax(test_out, 1)"
   ]
  },
  {
   "cell_type": "code",
   "execution_count": 336,
   "metadata": {},
   "outputs": [
    {
     "data": {
      "text/plain": [
       "0.7847682119205298"
      ]
     },
     "execution_count": 336,
     "metadata": {},
     "output_type": "execute_result"
    }
   ],
   "source": [
    "accuracy_score(l, pred)"
   ]
  },
  {
   "cell_type": "code",
   "execution_count": 339,
   "metadata": {},
   "outputs": [],
   "source": [
    "con_matrix = confusion_matrix(l, pred)"
   ]
  },
  {
   "cell_type": "code",
   "execution_count": 342,
   "metadata": {},
   "outputs": [
    {
     "data": {
      "text/plain": [
       "array([[160,  19,  35,  15],\n",
       "       [ 28, 104,  34,   5],\n",
       "       [ 24,  27, 198,   0],\n",
       "       [  2,   2,   4, 249]], dtype=int64)"
      ]
     },
     "execution_count": 342,
     "metadata": {},
     "output_type": "execute_result"
    }
   ],
   "source": [
    "con_matrix"
   ]
  },
  {
   "cell_type": "code",
   "execution_count": 359,
   "metadata": {},
   "outputs": [],
   "source": [
    "# https://christianbernecker.medium.com/how-to-create-a-confusion-matrix-in-pytorch-38d06a7f04b7\n",
    "df_cm = pd.DataFrame(con_matrix, index = [i for i in classes],\n",
    "                     columns = [i for i in classes])"
   ]
  },
  {
   "cell_type": "code",
   "execution_count": 360,
   "metadata": {},
   "outputs": [
    {
     "data": {
      "text/plain": [
       "<AxesSubplot:>"
      ]
     },
     "execution_count": 360,
     "metadata": {},
     "output_type": "execute_result"
    },
    {
     "data": {
      "image/png": "[encoded data removed]",
      "text/plain": [
       "<Figure size 1080x576 with 2 Axes>"
      ]
     },
     "metadata": {},
     "output_type": "display_data"
    }
   ],
   "source": [
    "sns.set(rc = {'figure.figsize':(15,8)})\n",
    "sns.heatmap(df_cm, annot=True, )"
   ]
  },
  {
   "cell_type": "code",
   "execution_count": 366,
   "metadata": {},
   "outputs": [
    {
     "name": "stdout",
     "output_type": "stream",
     "text": [
      "score accuracy:  0.7847682119205298\n",
      "score precision 0.7847682119205298\n",
      "score recall:  0.7720379854028847\n",
      "f1 score:  0.7783510502219372\n"
     ]
    }
   ],
   "source": [
    "#print(confusion_matrix(preds, labels))\n",
    "tn, fp, fn, tp = confusion_matrix(l, pred)\n",
    "\n",
    "accuracy = (tp+tn)/(tp+tn+fp+fn)\n",
    "#print(\"accuracy:\",accuracy)\n",
    "score_accuracy = accuracy_score(pred, l)\n",
    "print(\"score accuracy: \", score_accuracy)\n",
    "\n",
    "precision = tp/(tp+fp)\n",
    "#print(\"precision: \", precision)\n",
    "score_precision = precision_score(pred, l, average='micro')\n",
    "print(\"score precision\",score_precision)\n",
    "\n",
    "recall = tp/(tp+fn)\n",
    "#print(\"recall: \" ,recall)\n",
    "score_recall = recall_score(pred, l, average='macro')\n",
    "print(\"score recall: \", score_recall)\n",
    "\n",
    "f1_measure = (2 * score_precision * score_recall)/(score_precision + score_recall)\n",
    "print(\"f1 score: \", f1_measure)"
   ]
  },
  {
   "cell_type": "code",
   "execution_count": null,
   "metadata": {},
   "outputs": [],
   "source": []
  }
 ],
 "metadata": {
  "kernelspec": {
   "display_name": "fcnnvenv",
   "language": "python",
   "name": "fcnnvenv"
  },
  "language_info": {
   "codemirror_mode": {
    "name": "ipython",
    "version": 3
   },
   "file_extension": ".py",
   "mimetype": "text/x-python",
   "name": "python",
   "nbconvert_exporter": "python",
   "pygments_lexer": "ipython3",
   "version": "3.7.6"
  }
 },
 "nbformat": 4,
 "nbformat_minor": 4
}
